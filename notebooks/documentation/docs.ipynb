{
 "cells": [
  {
   "cell_type": "markdown",
   "metadata": {},
   "source": [
    "# Trouble shooting"
   ]
  },
  {
   "cell_type": "markdown",
   "metadata": {},
   "source": [
    "**tqdm doesn't work**\n",
    "\n",
    "It keeps showing this message \n",
    "```\n",
    "HBox(children=(IntProgress(value=0, max=5), HTML(value='')))\n",
    "```\n",
    "- Solution: \n",
    "    + Update JupyterLab ``` conda update jupyterlab```\n",
    "    + Install the JupyterLab extension ```jupyter labextension install @jupyter-widgets/jupyterlab-manager```\n",
    "    + Ensure the ipywidget is enabled ```jupyter nbextension enable --py widgetsnbextension```\n"
   ]
  },
  {
   "cell_type": "code",
   "execution_count": null,
   "metadata": {},
   "outputs": [],
   "source": []
  }
 ],
 "metadata": {
  "kernelspec": {
   "display_name": "Python 3",
   "language": "python",
   "name": "python3"
  },
  "language_info": {
   "codemirror_mode": {
    "name": "ipython",
    "version": 3
   },
   "file_extension": ".py",
   "mimetype": "text/x-python",
   "name": "python",
   "nbconvert_exporter": "python",
   "pygments_lexer": "ipython3",
   "version": "3.7.4"
  }
 },
 "nbformat": 4,
 "nbformat_minor": 4
}
