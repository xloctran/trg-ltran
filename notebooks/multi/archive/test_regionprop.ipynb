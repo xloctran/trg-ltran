{
 "cells": [
  {
   "cell_type": "code",
   "execution_count": 28,
   "metadata": {},
   "outputs": [],
   "source": [
    "from skimage import data, util\n",
    "from skimage.measure import label, regionprops, regionprops_table\n",
    "imgk = util.img_as_ubyte(data.coins()) > 110\n",
    "label_imgk = label(imgk, connectivity=imgk.ndim)\n",
    "props = regionprops(label_imgk)\n",
    "# centroid of first labeled object\n",
    "props[0].centroid\n",
    "# centroid of first labeled object\n",
    "a, b = props[2]['centroid']\n",
    "a, b = round(a), round(b)"
   ]
  },
  {
   "cell_type": "code",
   "execution_count": 29,
   "metadata": {},
   "outputs": [
    {
     "data": {
      "text/plain": [
       "0.0"
      ]
     },
     "execution_count": 29,
     "metadata": {},
     "output_type": "execute_result"
    }
   ],
   "source": [
    "a"
   ]
  },
  {
   "cell_type": "code",
   "execution_count": 11,
   "metadata": {},
   "outputs": [
    {
     "data": {
      "text/plain": [
       "array([[0, 1, 1, ..., 0, 0, 0],\n",
       "       [0, 1, 1, ..., 0, 0, 0],\n",
       "       [1, 1, 1, ..., 0, 0, 0],\n",
       "       ...,\n",
       "       [0, 0, 0, ..., 0, 0, 0],\n",
       "       [0, 0, 0, ..., 0, 0, 0],\n",
       "       [0, 0, 0, ..., 0, 0, 0]])"
      ]
     },
     "execution_count": 11,
     "metadata": {},
     "output_type": "execute_result"
    }
   ],
   "source": [
    "label_imgk"
   ]
  },
  {
   "cell_type": "code",
   "execution_count": 12,
   "metadata": {},
   "outputs": [
    {
     "data": {
      "text/plain": [
       "[<skimage.measure._regionprops.RegionProperties at 0x7efb4f850ac8>,\n",
       " <skimage.measure._regionprops.RegionProperties at 0x7efb4f850748>,\n",
       " <skimage.measure._regionprops.RegionProperties at 0x7efb4f850898>,\n",
       " <skimage.measure._regionprops.RegionProperties at 0x7efb4f850b00>,\n",
       " <skimage.measure._regionprops.RegionProperties at 0x7efb4f850a20>,\n",
       " <skimage.measure._regionprops.RegionProperties at 0x7efb4f850a58>,\n",
       " <skimage.measure._regionprops.RegionProperties at 0x7efb4f850860>,\n",
       " <skimage.measure._regionprops.RegionProperties at 0x7efb4f850b38>,\n",
       " <skimage.measure._regionprops.RegionProperties at 0x7efb4f850b70>,\n",
       " <skimage.measure._regionprops.RegionProperties at 0x7efb4f850ba8>,\n",
       " <skimage.measure._regionprops.RegionProperties at 0x7efb4f850be0>,\n",
       " <skimage.measure._regionprops.RegionProperties at 0x7efb4f850c18>,\n",
       " <skimage.measure._regionprops.RegionProperties at 0x7efb4f850c50>,\n",
       " <skimage.measure._regionprops.RegionProperties at 0x7efb4f850c88>,\n",
       " <skimage.measure._regionprops.RegionProperties at 0x7efb4f850cc0>,\n",
       " <skimage.measure._regionprops.RegionProperties at 0x7efb4f850cf8>,\n",
       " <skimage.measure._regionprops.RegionProperties at 0x7efb4f850d30>,\n",
       " <skimage.measure._regionprops.RegionProperties at 0x7efb4f850d68>,\n",
       " <skimage.measure._regionprops.RegionProperties at 0x7efb4f850da0>,\n",
       " <skimage.measure._regionprops.RegionProperties at 0x7efb4f850dd8>,\n",
       " <skimage.measure._regionprops.RegionProperties at 0x7efb4f850e10>,\n",
       " <skimage.measure._regionprops.RegionProperties at 0x7efb4f850e48>,\n",
       " <skimage.measure._regionprops.RegionProperties at 0x7efb4f850e80>,\n",
       " <skimage.measure._regionprops.RegionProperties at 0x7efb4f850eb8>,\n",
       " <skimage.measure._regionprops.RegionProperties at 0x7efb4f850ef0>,\n",
       " <skimage.measure._regionprops.RegionProperties at 0x7efb4f850f28>,\n",
       " <skimage.measure._regionprops.RegionProperties at 0x7efb4f850f60>,\n",
       " <skimage.measure._regionprops.RegionProperties at 0x7efb4f850f98>,\n",
       " <skimage.measure._regionprops.RegionProperties at 0x7efb4f850fd0>,\n",
       " <skimage.measure._regionprops.RegionProperties at 0x7efb4f76b048>,\n",
       " <skimage.measure._regionprops.RegionProperties at 0x7efb4f76b080>,\n",
       " <skimage.measure._regionprops.RegionProperties at 0x7efb4f76b0b8>,\n",
       " <skimage.measure._regionprops.RegionProperties at 0x7efb4f76b0f0>,\n",
       " <skimage.measure._regionprops.RegionProperties at 0x7efb4f76b128>,\n",
       " <skimage.measure._regionprops.RegionProperties at 0x7efb4f76b160>,\n",
       " <skimage.measure._regionprops.RegionProperties at 0x7efb4f76b198>,\n",
       " <skimage.measure._regionprops.RegionProperties at 0x7efb4f76b1d0>,\n",
       " <skimage.measure._regionprops.RegionProperties at 0x7efb4f76b208>,\n",
       " <skimage.measure._regionprops.RegionProperties at 0x7efb4f76b240>,\n",
       " <skimage.measure._regionprops.RegionProperties at 0x7efb4f76b278>,\n",
       " <skimage.measure._regionprops.RegionProperties at 0x7efb4f76b2b0>,\n",
       " <skimage.measure._regionprops.RegionProperties at 0x7efb4f76b2e8>,\n",
       " <skimage.measure._regionprops.RegionProperties at 0x7efb4f76b320>,\n",
       " <skimage.measure._regionprops.RegionProperties at 0x7efb4f76b358>,\n",
       " <skimage.measure._regionprops.RegionProperties at 0x7efb4f76b390>,\n",
       " <skimage.measure._regionprops.RegionProperties at 0x7efb4f76b3c8>,\n",
       " <skimage.measure._regionprops.RegionProperties at 0x7efb4f76b400>,\n",
       " <skimage.measure._regionprops.RegionProperties at 0x7efb4f76b438>,\n",
       " <skimage.measure._regionprops.RegionProperties at 0x7efb4f76b470>,\n",
       " <skimage.measure._regionprops.RegionProperties at 0x7efb4f76b4a8>,\n",
       " <skimage.measure._regionprops.RegionProperties at 0x7efb4f76b4e0>,\n",
       " <skimage.measure._regionprops.RegionProperties at 0x7efb4f76b518>,\n",
       " <skimage.measure._regionprops.RegionProperties at 0x7efb4f76b550>,\n",
       " <skimage.measure._regionprops.RegionProperties at 0x7efb4f76b588>,\n",
       " <skimage.measure._regionprops.RegionProperties at 0x7efb4f76b5c0>,\n",
       " <skimage.measure._regionprops.RegionProperties at 0x7efb4f76b5f8>,\n",
       " <skimage.measure._regionprops.RegionProperties at 0x7efb4f76b630>,\n",
       " <skimage.measure._regionprops.RegionProperties at 0x7efb4f76b668>,\n",
       " <skimage.measure._regionprops.RegionProperties at 0x7efb4f76b6a0>,\n",
       " <skimage.measure._regionprops.RegionProperties at 0x7efb4f76b6d8>,\n",
       " <skimage.measure._regionprops.RegionProperties at 0x7efb4f76b710>,\n",
       " <skimage.measure._regionprops.RegionProperties at 0x7efb4f76b748>,\n",
       " <skimage.measure._regionprops.RegionProperties at 0x7efb4f76b780>,\n",
       " <skimage.measure._regionprops.RegionProperties at 0x7efb4f76b7b8>,\n",
       " <skimage.measure._regionprops.RegionProperties at 0x7efb4f76b7f0>,\n",
       " <skimage.measure._regionprops.RegionProperties at 0x7efb4f76b828>,\n",
       " <skimage.measure._regionprops.RegionProperties at 0x7efb4f76b860>,\n",
       " <skimage.measure._regionprops.RegionProperties at 0x7efb4f76b898>,\n",
       " <skimage.measure._regionprops.RegionProperties at 0x7efb4f76b8d0>,\n",
       " <skimage.measure._regionprops.RegionProperties at 0x7efb4f76b908>,\n",
       " <skimage.measure._regionprops.RegionProperties at 0x7efb4f76b940>,\n",
       " <skimage.measure._regionprops.RegionProperties at 0x7efb4f76b978>,\n",
       " <skimage.measure._regionprops.RegionProperties at 0x7efb4f76b9b0>,\n",
       " <skimage.measure._regionprops.RegionProperties at 0x7efb4f76b9e8>,\n",
       " <skimage.measure._regionprops.RegionProperties at 0x7efb4f76ba20>,\n",
       " <skimage.measure._regionprops.RegionProperties at 0x7efb4f76ba58>,\n",
       " <skimage.measure._regionprops.RegionProperties at 0x7efb4f76ba90>,\n",
       " <skimage.measure._regionprops.RegionProperties at 0x7efb4f76bac8>,\n",
       " <skimage.measure._regionprops.RegionProperties at 0x7efb4f76bb00>,\n",
       " <skimage.measure._regionprops.RegionProperties at 0x7efb4f76bb38>,\n",
       " <skimage.measure._regionprops.RegionProperties at 0x7efb4f76bb70>,\n",
       " <skimage.measure._regionprops.RegionProperties at 0x7efb4f76bba8>,\n",
       " <skimage.measure._regionprops.RegionProperties at 0x7efb4f76bbe0>,\n",
       " <skimage.measure._regionprops.RegionProperties at 0x7efb4f76bc18>,\n",
       " <skimage.measure._regionprops.RegionProperties at 0x7efb4f76bc50>,\n",
       " <skimage.measure._regionprops.RegionProperties at 0x7efb4f76bc88>,\n",
       " <skimage.measure._regionprops.RegionProperties at 0x7efb4f76bcc0>]"
      ]
     },
     "execution_count": 12,
     "metadata": {},
     "output_type": "execute_result"
    }
   ],
   "source": [
    "props"
   ]
  },
  {
   "cell_type": "code",
   "execution_count": null,
   "metadata": {},
   "outputs": [],
   "source": []
  }
 ],
 "metadata": {
  "kernelspec": {
   "display_name": "Python 3",
   "language": "python",
   "name": "python3"
  },
  "language_info": {
   "codemirror_mode": {
    "name": "ipython",
    "version": 3
   },
   "file_extension": ".py",
   "mimetype": "text/x-python",
   "name": "python",
   "nbconvert_exporter": "python",
   "pygments_lexer": "ipython3",
   "version": "3.6.8"
  }
 },
 "nbformat": 4,
 "nbformat_minor": 2
}
