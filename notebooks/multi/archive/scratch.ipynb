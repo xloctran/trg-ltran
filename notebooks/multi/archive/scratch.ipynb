{
 "cells": [
  {
   "cell_type": "code",
   "execution_count": 3,
   "metadata": {},
   "outputs": [
    {
     "name": "stdout",
     "output_type": "stream",
     "text": [
      "\u001b[0m\u001b[01;34mBackup\u001b[0m/\r\n",
      "Makeoutputmulti.ipynb\r\n",
      "MultiResSmallNetwork.ipynb\r\n",
      "MultiResSmallNetwork.py\r\n",
      "\u001b[01;34mOutput\u001b[0m/\r\n",
      "\u001b[01;34m__pycache__\u001b[0m/\r\n",
      "make-small-slide.ipynb\r\n",
      "make-visualization-cmatrix.ipynb\r\n",
      "make_hdf5_multiy.ipynb\r\n",
      "make_hdf5_multiy.py\r\n",
      "make_output_MultiResSmallNetwork.ipynb\r\n",
      "make_output_MultiResSmallNetwork.py\r\n",
      "make_uniformoutput_MultiResSmallNetwork.ipynb\r\n",
      "make_uniformoutput_MultiResSmallNetwork.py\r\n",
      "\u001b[01;34mruns\u001b[0m/\r\n",
      "scratch.ipynb\r\n",
      "\u001b[01;35mslide1.png\u001b[0m\r\n",
      "test_regionprop.ipynb\r\n",
      "train_MultiResSmallNetwork.ipynb\r\n",
      "train_MultiResSmallNetwork.py\r\n",
      "train_multi.ipynb\r\n"
     ]
    }
   ],
   "source": [
    "ls"
   ]
  },
  {
   "cell_type": "code",
   "execution_count": 2,
   "metadata": {},
   "outputs": [],
   "source": []
  },
  {
   "cell_type": "code",
   "execution_count": null,
   "metadata": {},
   "outputs": [],
   "source": []
  }
 ],
 "metadata": {
  "kernelspec": {
   "display_name": "Python 3",
   "language": "python",
   "name": "python3"
  },
  "language_info": {
   "codemirror_mode": {
    "name": "ipython",
    "version": 3
   },
   "file_extension": ".py",
   "mimetype": "text/x-python",
   "name": "python",
   "nbconvert_exporter": "python",
   "pygments_lexer": "ipython3",
   "version": "3.6.8"
  }
 },
 "nbformat": 4,
 "nbformat_minor": 2
}
