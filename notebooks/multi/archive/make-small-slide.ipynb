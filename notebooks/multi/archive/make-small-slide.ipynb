{
 "cells": [
  {
   "cell_type": "code",
   "execution_count": 1,
   "metadata": {},
   "outputs": [
    {
     "name": "stderr",
     "output_type": "stream",
     "text": [
      "/usr/local/lib/python3.6/dist-packages/ipykernel_launcher.py:23: TqdmExperimentalWarning: Using `tqdm.autonotebook.tqdm` in notebook mode. Use `tqdm.tqdm` instead to force console mode (e.g. in jupyter console)\n"
     ]
    }
   ],
   "source": [
    "import os\n",
    "import numpy as np\n",
    "import cv2\n",
    "import matplotlib.pyplot as plt\n",
    "import scipy.signal\n",
    "import argparse\n",
    "from torch import nn\n",
    "from torchsummary import summary\n",
    "\n",
    "from skimage import color \n",
    "\n",
    "from albumentations import *\n",
    "from albumentations.pytorch import ToTensor\n",
    "\n",
    "import sklearn.feature_extraction.image\n",
    "\n",
    "import matplotlib.cm\n",
    "\n",
    "import torch\n",
    "\n",
    "from torchvision.models import DenseNet\n",
    "\n",
    "from tqdm.autonotebook import tqdm\n",
    "\n",
    "from  skimage.color import rgb2gray\n",
    "import PIL\n",
    "\n",
    "import glob\n",
    "\n",
    "import dill as pickle\n",
    "\n",
    "from skimage.color import rgb2gray, rgb2hed\n",
    "\n",
    "from skimage.measure import * \n",
    "from skimage.filters import *\n",
    "from skimage.morphology import *"
   ]
  },
  {
   "cell_type": "code",
   "execution_count": 6,
   "metadata": {},
   "outputs": [],
   "source": [
    "fname=\"../../slide-2019-09-24T09-52-40-R1-S1.mrxs.png\"\n",
    "img = cv2.imread(fname)"
   ]
  },
  {
   "cell_type": "code",
   "execution_count": 7,
   "metadata": {},
   "outputs": [
    {
     "data": {
      "text/plain": [
       "True"
      ]
     },
     "execution_count": 7,
     "metadata": {},
     "output_type": "execute_result"
    }
   ],
   "source": [
    "cv2.imwrite('slide1.png', img[20000:25000, 0:img.shape[1], :])"
   ]
  },
  {
   "cell_type": "code",
   "execution_count": null,
   "metadata": {},
   "outputs": [],
   "source": []
  }
 ],
 "metadata": {
  "kernelspec": {
   "display_name": "Python 3",
   "language": "python",
   "name": "python3"
  },
  "language_info": {
   "codemirror_mode": {
    "name": "ipython",
    "version": 3
   },
   "file_extension": ".py",
   "mimetype": "text/x-python",
   "name": "python",
   "nbconvert_exporter": "python",
   "pygments_lexer": "ipython3",
   "version": "3.6.8"
  }
 },
 "nbformat": 4,
 "nbformat_minor": 2
}
