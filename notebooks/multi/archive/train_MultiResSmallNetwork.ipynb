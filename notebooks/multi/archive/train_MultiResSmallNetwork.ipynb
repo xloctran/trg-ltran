{
 "cells": [
  {
   "cell_type": "code",
   "execution_count": 23,
   "metadata": {},
   "outputs": [],
   "source": [
    "dataname=\"trg_multi\"\n",
    "gpuid=0\n",
    "\n",
    "\n",
    "class_names=[\"Fat\", \"Muscular\", \"Vein\", \"Gland\", \"Stroma\", \"Tumor\", \"Necrosis\", \"Epithelium\"]\n",
    "nclasses=len(class_names)\n",
    "\n",
    "\n",
    "# --- training params\n",
    "batch_size=128\n",
    "patch_size=64 #currently, this needs to be 224 due to densenet architecture\n",
    "num_epochs = 2\n",
    "phases = [\"train\",\"val\"] #how many phases did we create databases for?\n",
    "validation_phases= [\"val\"] #when should we do valiation? note that validation is *very* time consuming, so as opposed to doing for both training and validation, we do it only for vlaidation at the end of the epoch\n",
    "                           #additionally, using simply [], will skip validation entirely, drastically speeding things up"
   ]
  },
  {
   "cell_type": "code",
   "execution_count": 26,
   "metadata": {},
   "outputs": [
    {
     "name": "stderr",
     "output_type": "stream",
     "text": [
      "/usr/local/lib/python3.6/dist-packages/ipykernel_launcher.py:20: TqdmExperimentalWarning: Using `tqdm.autonotebook.tqdm` in notebook mode. Use `tqdm.tqdm` instead to force console mode (e.g. in jupyter console)\n"
     ]
    }
   ],
   "source": [
    "import torch\n",
    "from torch import nn\n",
    "from torch.utils.data import DataLoader\n",
    "from torchvision.models import DenseNet\n",
    "\n",
    "from albumentations import *\n",
    "from albumentations.pytorch import ToTensor\n",
    "\n",
    "\n",
    "import scipy\n",
    "\n",
    "import PIL\n",
    "import matplotlib.pyplot as plt\n",
    "import cv2\n",
    "\n",
    "import numpy as np\n",
    "import sys, glob\n",
    "\n",
    "from tensorboardX import SummaryWriter\n",
    "from tqdm.autonotebook import tqdm\n",
    "\n",
    "from torchsummary import summary\n",
    "import time\n",
    "import math\n",
    "import tables\n",
    "\n",
    "import random\n",
    "\n",
    "from sklearn.metrics import confusion_matrix"
   ]
  },
  {
   "cell_type": "code",
   "execution_count": 3,
   "metadata": {},
   "outputs": [],
   "source": [
    "#helper function for pretty printing of current time and remaining time\n",
    "def asMinutes(s):\n",
    "    m = math.floor(s / 60)\n",
    "    s -= m * 60\n",
    "    return '%dm %ds' % (m, s)\n",
    "def timeSince(since, percent):\n",
    "    now = time.time()\n",
    "    s = now - since\n",
    "    es = s / (percent+.00001)\n",
    "    rs = es - s\n",
    "    return '%s (- %s)' % (asMinutes(s), asMinutes(rs))"
   ]
  },
  {
   "cell_type": "code",
   "execution_count": 4,
   "metadata": {},
   "outputs": [
    {
     "name": "stdout",
     "output_type": "stream",
     "text": [
      "_CudaDeviceProperties(name='GeForce RTX 2080 Ti', major=7, minor=5, total_memory=11018MB, multi_processor_count=68)\n"
     ]
    }
   ],
   "source": [
    "#specify if we should use a GPU (cuda) or only the CPU\n",
    "print(torch.cuda.get_device_properties(gpuid))\n",
    "torch.cuda.set_device(gpuid)\n",
    "device = torch.device(f'cuda:{gpuid}' if torch.cuda.is_available() else 'cpu')"
   ]
  },
  {
   "cell_type": "code",
   "execution_count": 9,
   "metadata": {},
   "outputs": [],
   "source": [
    "checkpoint = torch.load(\"/home/ltran/trg_ltran/models/multi/multires-v0.pth\", map_location=lambda storage, loc: storage)"
   ]
  },
  {
   "cell_type": "code",
   "execution_count": 11,
   "metadata": {},
   "outputs": [],
   "source": [
    "from  MultiResSmallNetwork import MergeSmallNetworks\n",
    "model=MergeSmallNetworks(nclasses = nclasses, outputsize = 8 ).to(device)\n",
    "#model.load_state_dict(checkpoint[\"model_dict\"])\n",
    "#for name, param in model.named_parameters():\n",
    "#    if param.requires_grad:\n",
    "#        print(name, param.data)"
   ]
  },
  {
   "cell_type": "code",
   "execution_count": 12,
   "metadata": {},
   "outputs": [
    {
     "name": "stdout",
     "output_type": "stream",
     "text": [
      "----------------------------------------------------------------\n",
      "        Layer (type)               Output Shape         Param #\n",
      "================================================================\n",
      "            Conv2d-1            [-1, 6, 62, 62]             168\n",
      "              ReLU-2            [-1, 6, 62, 62]               0\n",
      "       BatchNorm2d-3            [-1, 6, 62, 62]              12\n",
      "            Conv2d-4            [-1, 8, 30, 30]             440\n",
      "              ReLU-5            [-1, 8, 30, 30]               0\n",
      "       BatchNorm2d-6            [-1, 8, 30, 30]              16\n",
      "            Conv2d-7            [-1, 8, 14, 14]             584\n",
      "              ReLU-8            [-1, 8, 14, 14]               0\n",
      "       BatchNorm2d-9            [-1, 8, 14, 14]              16\n",
      "           Conv2d-10              [-1, 8, 6, 6]             584\n",
      "             ReLU-11              [-1, 8, 6, 6]               0\n",
      "      BatchNorm2d-12              [-1, 8, 6, 6]              16\n",
      "           Conv2d-13              [-1, 8, 2, 2]             584\n",
      "             ReLU-14              [-1, 8, 2, 2]               0\n",
      "      BatchNorm2d-15              [-1, 8, 2, 2]              16\n",
      "           Conv2d-16              [-1, 8, 1, 1]             264\n",
      "             ReLU-17              [-1, 8, 1, 1]               0\n",
      "      BatchNorm2d-18              [-1, 8, 1, 1]              16\n",
      "          Flatten-19                    [-1, 8]               0\n",
      "           Linear-20                    [-1, 8]              72\n",
      "             ReLU-21                    [-1, 8]               0\n",
      "      BatchNorm1d-22                    [-1, 8]              16\n",
      "           Linear-23                    [-1, 8]              72\n",
      "             ReLU-24                    [-1, 8]               0\n",
      "      BatchNorm1d-25                    [-1, 8]              16\n",
      "           Linear-26                    [-1, 8]              72\n",
      "================================================================\n",
      "Total params: 2,964\n",
      "Trainable params: 2,964\n",
      "Non-trainable params: 0\n",
      "----------------------------------------------------------------\n",
      "Input size (MB): 0.05\n",
      "Forward/backward pass size (MB): 0.74\n",
      "Params size (MB): 0.01\n",
      "Estimated Total Size (MB): 0.79\n",
      "----------------------------------------------------------------\n"
     ]
    }
   ],
   "source": [
    "summary(model.res1,input_size=(3,64,64))"
   ]
  },
  {
   "cell_type": "code",
   "execution_count": 13,
   "metadata": {},
   "outputs": [
    {
     "name": "stdout",
     "output_type": "stream",
     "text": [
      "----------------------------------------------------------------\n",
      "        Layer (type)               Output Shape         Param #\n",
      "================================================================\n",
      "            Conv2d-1            [-1, 6, 62, 62]             168\n",
      "              ReLU-2            [-1, 6, 62, 62]               0\n",
      "       BatchNorm2d-3            [-1, 6, 62, 62]              12\n",
      "            Conv2d-4            [-1, 8, 30, 30]             440\n",
      "              ReLU-5            [-1, 8, 30, 30]               0\n",
      "       BatchNorm2d-6            [-1, 8, 30, 30]              16\n",
      "            Conv2d-7            [-1, 8, 14, 14]             584\n",
      "              ReLU-8            [-1, 8, 14, 14]               0\n",
      "       BatchNorm2d-9            [-1, 8, 14, 14]              16\n",
      "           Conv2d-10              [-1, 8, 6, 6]             584\n",
      "             ReLU-11              [-1, 8, 6, 6]               0\n",
      "      BatchNorm2d-12              [-1, 8, 6, 6]              16\n",
      "           Conv2d-13              [-1, 8, 2, 2]             584\n",
      "             ReLU-14              [-1, 8, 2, 2]               0\n",
      "      BatchNorm2d-15              [-1, 8, 2, 2]              16\n",
      "           Conv2d-16              [-1, 8, 1, 1]             264\n",
      "             ReLU-17              [-1, 8, 1, 1]               0\n",
      "      BatchNorm2d-18              [-1, 8, 1, 1]              16\n",
      "================================================================\n",
      "Total params: 2,716\n",
      "Trainable params: 2,716\n",
      "Non-trainable params: 0\n",
      "----------------------------------------------------------------\n",
      "Input size (MB): 0.05\n",
      "Forward/backward pass size (MB): 0.74\n",
      "Params size (MB): 0.01\n",
      "Estimated Total Size (MB): 0.79\n",
      "----------------------------------------------------------------\n"
     ]
    }
   ],
   "source": [
    "summary(model.res2.encoder,input_size=(3,64,64))"
   ]
  },
  {
   "cell_type": "code",
   "execution_count": 14,
   "metadata": {},
   "outputs": [],
   "source": [
    "#this defines our dataset class which will be used by the dataloader\n",
    "class Dataset(object):\n",
    "    def __init__(self, fname ,img_transform=None):\n",
    "        #nothing special here, just internalizing the constructor parameters\n",
    "        self.fname=fname\n",
    "\n",
    "        self.img_transform=img_transform\n",
    "        \n",
    "        with tables.open_file(self.fname,'r') as db:\n",
    "            self.classsizes=db.root.classsizes[:]\n",
    "            self.nitems=db.root.imgres1.shape[0]\n",
    "        \n",
    "        \n",
    "    def __getitem__(self, index):\n",
    "        #opening should be done in __init__ but seems to be\n",
    "        #an issue with multithreading so doing here. need to do it everytime, otherwise hdf5 crashes\n",
    "\n",
    "        with tables.open_file(self.fname,'r') as db:\n",
    "            self.imgres1=db.root.imgres1\n",
    "            self.imgres2=db.root.imgres2\n",
    "            \n",
    "            self.labels=db.root.labels\n",
    "\n",
    "            #get the requested image and mask from the pytable\n",
    "            imgres1 = self.imgres1[index,:,:,:]\n",
    "            imgres2 = self.imgres2[index,:,:,:]\n",
    "            \n",
    "            label = self.labels[index]\n",
    "        \n",
    "        \n",
    "        imgres1_new = imgres1\n",
    "        imgres2_new = imgres2\n",
    "        \n",
    "        if self.img_transform:\n",
    "            #img_new = self.img_transform(image=img)['image']\n",
    "            trans = self.img_transform(image=imgres1,imgres2=imgres2)\n",
    "            imgres1_new = trans['image']\n",
    "            imgres2_new = trans['imgres2']\n",
    "\n",
    "        return imgres1_new, imgres2_new, label\n",
    "    def __len__(self):\n",
    "        return self.nitems"
   ]
  },
  {
   "cell_type": "code",
   "execution_count": 15,
   "metadata": {},
   "outputs": [],
   "source": [
    "#https://github.com/albu/albumentations/blob/master/notebooks/migrating_from_torchvision_to_albumentations.ipynb\n",
    "img_transform = Compose([\n",
    "        RandomScale(scale_limit=0.1,p=.9),\n",
    "        PadIfNeeded(min_height=patch_size,min_width=patch_size),        \n",
    "        VerticalFlip(p=.5),\n",
    "        HorizontalFlip(p=.5),\n",
    "        #Blur(p=.5),\n",
    "        #Downscale(p=.25, scale_min=0.64, scale_max=0.99),\n",
    "        GaussNoise(p=.5, var_limit=(10.0, 50.0)),\n",
    "        GridDistortion(p=.5, num_steps=5, distort_limit=(-0.3, 0.3), \n",
    "                       border_mode=cv2.BORDER_REFLECT),\n",
    "        ISONoise(p=.5, intensity=(0.1, 0.5), color_shift=(0.01, 0.05)),\n",
    "        RandomBrightness(p=.5, limit=(-0.2, 0.2)),\n",
    "        RandomContrast(p=.5, limit=(-0.2, 0.2)),\n",
    "        RandomGamma(p=.5, gamma_limit=(80, 120), eps=1e-07),\n",
    "        MultiplicativeNoise(p=.5, multiplier=(0.9, 1.1), per_channel=True, elementwise=True),\n",
    "        #HueSaturationValue(hue_shift_limit=20,sat_shift_limit=10,val_shift_limit=10,p=.9),\n",
    "        Rotate(p=1, border_mode=cv2.BORDER_REFLECT),\n",
    "        CenterCrop(patch_size,patch_size),\n",
    "        ToTensor()\n",
    "    ], additional_targets={'imgres2':'image'})"
   ]
  },
  {
   "cell_type": "code",
   "execution_count": 18,
   "metadata": {},
   "outputs": [
    {
     "name": "stdout",
     "output_type": "stream",
     "text": [
      "train dataset size:\t64000\n",
      "val dataset size:\t12800\n"
     ]
    }
   ],
   "source": [
    "dataset={}\n",
    "dataLoader={}\n",
    "for phase in phases: #now for each of the phases, we're creating the dataloader\n",
    "                     #interestingly, given the batch size, i've not seen any improvements from using a num_workers>0\n",
    "    \n",
    "    dataset[phase]=Dataset(f\"/home/ltran/trg_ltran/data/processed/{dataname}_{phase}.pytable\", img_transform=img_transform)\n",
    "    dataLoader[phase]=DataLoader(dataset[phase], batch_size=batch_size, \n",
    "                                shuffle=True, num_workers=0,pin_memory=True) \n",
    "    print(f\"{phase} dataset size:\\t{len(dataset[phase])}\")"
   ]
  },
  {
   "cell_type": "code",
   "execution_count": 19,
   "metadata": {},
   "outputs": [
    {
     "name": "stdout",
     "output_type": "stream",
     "text": [
      "Tumor\n"
     ]
    },
    {
     "data": {
      "image/png": "[encoded data removed]",
      "text/plain": [
       "<Figure size 720x288 with 2 Axes>"
      ]
     },
     "metadata": {
      "needs_background": "light"
     },
     "output_type": "display_data"
    }
   ],
   "source": [
    "#visualize a single example to verify that it is correct\n",
    "(imgres1,imgres2, label)=dataset[\"train\"][0]\n",
    "fig, ax = plt.subplots(1,2, figsize=(10,4))  # 1 row, 2 columns\n",
    "\n",
    "#build output showing patch after augmentation and original patch\n",
    "ax[0].imshow(np.moveaxis(imgres1.numpy(),0,-1))\n",
    "ax[1].imshow(np.moveaxis(imgres2.numpy(),0,-1))\n",
    "\n",
    "\n",
    "# ax[0].imshow(imgres1)\n",
    "# ax[1].imshow(imgres2)\n",
    "\n",
    "\n",
    "print(class_names[label])"
   ]
  },
  {
   "cell_type": "code",
   "execution_count": 20,
   "metadata": {},
   "outputs": [
    {
     "data": {
      "text/plain": [
       "torch.Size([3, 64, 64])"
      ]
     },
     "execution_count": 20,
     "metadata": {},
     "output_type": "execute_result"
    }
   ],
   "source": [
    "imgres1.shape"
   ]
  },
  {
   "cell_type": "code",
   "execution_count": 21,
   "metadata": {},
   "outputs": [],
   "source": [
    "optim = torch.optim.Adam(model.parameters(), weight_decay=.001) "
   ]
  },
  {
   "cell_type": "code",
   "execution_count": 22,
   "metadata": {
    "lines_to_next_cell": 2
   },
   "outputs": [
    {
     "name": "stdout",
     "output_type": "stream",
     "text": [
      "[[ 7500 14500  6000  3000 14500  6000  7500  5000]]\n",
      "tensor([[1.9333, 1.0000, 2.4167, 4.8333, 1.0000, 2.4167, 1.9333, 2.9000]],\n",
      "       device='cuda:0')\n"
     ]
    }
   ],
   "source": [
    "#we have the ability to weight individual classes, in this case we'll do so based on their presense in the trainingset\n",
    "#to avoid biasing any particular class\n",
    "\n",
    "class_weight=dataset[\"train\"].classsizes\n",
    "print(class_weight)\n",
    "#class_weight = torch.from_numpy(1-class_weight/class_weight.sum()).type('torch.FloatTensor').to(device)\n",
    "class_weight = torch.from_numpy(class_weight.max()/class_weight).type('torch.FloatTensor').to(device)\n",
    "\n",
    "print(class_weight) #show final used weights, make sure that they're reasonable before continouing\n",
    "criterion = nn.CrossEntropyLoss(weight = class_weight) "
   ]
  },
  {
   "cell_type": "code",
   "execution_count": null,
   "metadata": {
    "lines_to_next_cell": 2
   },
   "outputs": [
    {
     "data": {
      "application/vnd.jupyter.widget-view+json": {
       "model_id": "1025c746471a4442ab59bb9b12e94258",
       "version_major": 2,
       "version_minor": 0
      },
      "text/plain": [
       "HBox(children=(IntProgress(value=0, max=500), HTML(value='')))"
      ]
     },
     "metadata": {},
     "output_type": "display_data"
    }
   ],
   "source": [
    "#def trainnetwork():\n",
    "writer=SummaryWriter() #open the tensorboard visualiser\n",
    "best_loss_on_test = np.Infinity\n",
    "\n",
    "start_time = time.time()\n",
    "for epoch in range(num_epochs):\n",
    "    #zero out epoch based performance variables \n",
    "    all_acc = {key: 0 for key in phases} \n",
    "    all_loss = {key: torch.zeros(0).to(device) for key in phases} #keep this on GPU for greatly improved performance\n",
    "    cmatrix = {key: np.zeros((nclasses,nclasses)) for key in phases}\n",
    "\n",
    "    for phase in phases: #iterate through both training and validation states\n",
    "\n",
    "        if phase == 'train':\n",
    "            model.train()  # Set model to training mode\n",
    "        else: #when in eval mode, we don't want parameters to be updated\n",
    "            model.eval()   # Set model to evaluate mode\n",
    "\n",
    "        for ii , (Xres1, Xres2, label) in tqdm(enumerate(dataLoader[phase]),total=len(dataLoader[phase])): #for each of the batches\n",
    "            Xres1 = Xres1.to(device)  # [Nbatch, 3, H, W]\n",
    "            Xres2 = Xres2.to(device)  # [Nbatch, 3, H, W]\n",
    "            label = label.type('torch.LongTensor').to(device)  # [Nbatch, 1] with class indices (0, 1, 2,...num_classes)\n",
    "\n",
    "            with torch.set_grad_enabled(phase == 'train'): #dynamically set gradient computation, in case of validation, this isn't needed\n",
    "                                                            #disabling is good practice and improves inference time\n",
    "\n",
    "                \n",
    "                prediction = model.dualfoward(Xres1,Xres2)  # [N, Nclass]\n",
    "                #prediction = model.res1(Xres1)  # [N, Nclass]\n",
    "                #prediction = model.res2(Xres2)  # [N, Nclass]\n",
    "                loss = criterion(prediction, label)\n",
    "\n",
    "\n",
    "                if phase==\"train\": #in case we're in train mode, need to do back propogation\n",
    "                    optim.zero_grad()\n",
    "                    loss.backward()\n",
    "                    optim.step()\n",
    "                    train_loss = loss\n",
    "\n",
    "\n",
    "                all_loss[phase]=torch.cat((all_loss[phase],loss.detach().view(1,-1)))\n",
    "\n",
    "                if phase in validation_phases: #if this phase is part of validation, compute confusion matrix\n",
    "                    p=prediction.detach().cpu().numpy()\n",
    "                    cpredflat=np.argmax(p,axis=1).flatten()\n",
    "                    yflat=label.cpu().numpy().flatten()\n",
    "\n",
    "                    CM = scipy.sparse.coo_matrix((np.ones(yflat.shape[0], dtype=np.int64), (yflat, cpredflat)),\n",
    "                            shape=(nclasses, nclasses), dtype=np.int64,\n",
    "                            ).toarray()\n",
    "                    cmatrix[phase]=cmatrix[phase]+CM\n",
    "                    \n",
    "\n",
    "        all_acc[phase]=(cmatrix[phase]/cmatrix[phase].sum()).trace()\n",
    "        all_loss[phase] = all_loss[phase].cpu().numpy().mean()\n",
    "\n",
    "        #save metrics to tensorboard\n",
    "        writer.add_scalar(f'{phase}/loss', all_loss[phase], epoch)\n",
    "        if phase in validation_phases:\n",
    "            writer.add_scalar(f'{phase}/acc', all_acc[phase], epoch)\n",
    "            for r in range(nclasses):\n",
    "                for c in range(nclasses): #essentially write out confusion matrix\n",
    "                    writer.add_scalar(f'{phase}/{r}{c}', cmatrix[phase][r][c],epoch)\n",
    "\n",
    "    print('%s ([%d/%d] %d%%), train loss: %.4f test loss: %.4f' % (timeSince(start_time, (epoch+1) / num_epochs), \n",
    "                                                 epoch+1, num_epochs ,(epoch+1) / num_epochs * 100, all_loss[\"train\"], all_loss[\"val\"]),end=\"\")    \n",
    "\n",
    "    #if current loss is the best we've seen, save model state with all variables\n",
    "    #necessary for recreation\n",
    "    if all_loss[\"val\"] < best_loss_on_test:\n",
    "        best_loss_on_test = all_loss[\"val\"]\n",
    "        print(\"  **\")\n",
    "        state = {'epoch': epoch + 1,\n",
    "         'model_dict': model.state_dict(),\n",
    "         'optim_dict': optim.state_dict(),\n",
    "         'best_loss_on_test': all_loss,\n",
    "         'num_classes': nclasses}\n",
    "\n",
    "\n",
    "        torch.save(state, f\"/home/ltran/trg_ltran/models/model-training.pth\")\n",
    "    else:\n",
    "        print(\"\")"
   ]
  },
  {
   "cell_type": "code",
   "execution_count": null,
   "metadata": {},
   "outputs": [],
   "source": [
    "print(best_lost_on_test)"
   ]
  },
  {
   "cell_type": "code",
   "execution_count": 73,
   "metadata": {},
   "outputs": [],
   "source": [
    "\n",
    "#%load_ext line_profiler\n",
    "#%lprun -f trainnetwork trainnetwork()"
   ]
  },
  {
   "cell_type": "code",
   "execution_count": null,
   "metadata": {},
   "outputs": [],
   "source": [
    "#At this stage, training is done...below are snippets to help with output generation"
   ]
  },
  {
   "cell_type": "code",
   "execution_count": null,
   "metadata": {},
   "outputs": [],
   "source": [
    "#----- generate output\n",
    "#load best model\n",
    "checkpoint = torch.load(f\"{dataname}_simple_multires_best_model.pth\")\n",
    "model.load_state_dict(checkpoint[\"model_dict\"])"
   ]
  },
  {
   "cell_type": "code",
   "execution_count": null,
   "metadata": {},
   "outputs": [],
   "source": [
    "#grab a single image from validation set\n",
    "(imgres1, imgres2, label)=dataset[\"val\"][2]"
   ]
  },
  {
   "cell_type": "code",
   "execution_count": null,
   "metadata": {},
   "outputs": [],
   "source": [
    "imgres2.shape"
   ]
  },
  {
   "cell_type": "code",
   "execution_count": null,
   "metadata": {},
   "outputs": [],
   "source": [
    "#generate its output\n",
    "#%%timeit\n",
    "output=model.dualfoward(imgres1[None,::].to(device), imgres2[None,::].to(device))\n",
    "output=output.detach().squeeze().cpu().numpy()\n",
    "output.shape"
   ]
  },
  {
   "cell_type": "code",
   "execution_count": null,
   "metadata": {},
   "outputs": [],
   "source": [
    "print(output)\n",
    "print(f\"True class:{label}\")\n",
    "print(f\"Predicted class:{np.argmax(output)}\")"
   ]
  },
  {
   "cell_type": "code",
   "execution_count": null,
   "metadata": {},
   "outputs": [],
   "source": [
    "fig, ax = plt.subplots(1,2, figsize=(10,4))  # 1 row, 2 columns\n",
    "\n",
    "#build output showing patch after augmentation and original patch\n",
    "ax[0].imshow(np.moveaxis(imgres1.numpy(),0,-1))\n",
    "ax[1].imshow(np.moveaxis(imgres2.numpy(),0,-1))\n"
   ]
  }
 ],
 "metadata": {
  "jupytext": {
   "cell_metadata_json": true,
   "formats": "ipynb,py:light"
  },
  "kernelspec": {
   "display_name": "Python 3",
   "language": "python",
   "name": "python3"
  },
  "language_info": {
   "codemirror_mode": {
    "name": "ipython",
    "version": 3
   },
   "file_extension": ".py",
   "mimetype": "text/x-python",
   "name": "python",
   "nbconvert_exporter": "python",
   "pygments_lexer": "ipython3",
   "version": "3.6.8"
  }
 },
 "nbformat": 4,
 "nbformat_minor": 2
}
