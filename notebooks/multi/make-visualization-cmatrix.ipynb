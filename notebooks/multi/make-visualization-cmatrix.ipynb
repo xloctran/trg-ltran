{
 "cells": [
  {
   "cell_type": "code",
   "execution_count": 8,
   "metadata": {},
   "outputs": [],
   "source": [
    "dataname=\"trg_multi\"\n",
    "modelname = 'multires-7classes-v0'\n",
    "gpuid=0\n",
    "\n",
    "class_names=[\"Fat\", \"Muscular\", \"Vessel\", \"Gland\", \"Stroma\", \"Tumor\", \"Epithelium\"]\n",
    "#class_names=[\"Fat\", \"Muscular\", \"Vessel\", \"Gland\", \"Stroma\", \"Tumor\", \"Necrosis\", \"Epithelium\"]\n",
    "nclasses=len(class_names)\n",
    "\n",
    "\n",
    "# --- training params\n",
    "batch_size=128\n",
    "patch_size=64 #currently, this needs to be 224 due to densenet architecture\n",
    "num_epochs = 100\n",
    "phases = [\"train\",\"val\"] #how many phases did we create databases for?\n",
    "validation_phases= [\"val\"] #when should we do valiation? note that validation is *very* time consuming, so as opposed to doing for both training and validation, we do it only for vlaidation at the end of the epoch\n",
    "                           #additionally, using simply [], will skip validation entirely, drastically speeding things up"
   ]
  },
  {
   "cell_type": "code",
   "execution_count": 2,
   "metadata": {},
   "outputs": [],
   "source": [
    "import torch\n",
    "from torch import nn\n",
    "from torch.utils.data import DataLoader\n",
    "from torchvision.models import DenseNet\n",
    "\n",
    "from albumentations import *\n",
    "from albumentations.pytorch import ToTensor\n",
    "\n",
    "\n",
    "import scipy\n",
    "\n",
    "import PIL\n",
    "import matplotlib.pyplot as plt\n",
    "import cv2\n",
    "\n",
    "import numpy as np\n",
    "import sys, glob\n",
    "\n",
    "from tensorboardX import SummaryWriter\n",
    "\n",
    "from torchsummary import summary\n",
    "import time\n",
    "import math\n",
    "import tables\n",
    "\n",
    "import random\n",
    "\n",
    "from sklearn.metrics import confusion_matrix\n",
    "from  MultiResSmallNetwork import MergeSmallNetworks"
   ]
  },
  {
   "cell_type": "code",
   "execution_count": 3,
   "metadata": {},
   "outputs": [],
   "source": [
    "#this defines our dataset class which will be used by the dataloader\n",
    "class Dataset(object):\n",
    "    def __init__(self, fname ,img_transform=None):\n",
    "        #nothing special here, just internalizing the constructor parameters\n",
    "        self.fname=fname\n",
    "\n",
    "        self.img_transform=img_transform\n",
    "        \n",
    "        with tables.open_file(self.fname,'r') as db:\n",
    "            self.classsizes=db.root.classsizes[:]\n",
    "            self.nitems=db.root.imgres1.shape[0]\n",
    "        \n",
    "        \n",
    "    def __getitem__(self, index):\n",
    "        #opening should be done in __init__ but seems to be\n",
    "        #an issue with multithreading so doing here. need to do it everytime, otherwise hdf5 crashes\n",
    "\n",
    "        with tables.open_file(self.fname,'r') as db:\n",
    "            self.imgres1=db.root.imgres1\n",
    "            self.imgres2=db.root.imgres2\n",
    "            \n",
    "            self.labels=db.root.labels\n",
    "\n",
    "            #get the requested image and mask from the pytable\n",
    "            imgres1 = self.imgres1[index,:,:,:]\n",
    "            imgres2 = self.imgres2[index,:,:,:]\n",
    "            \n",
    "            label = self.labels[index]\n",
    "        \n",
    "        \n",
    "        imgres1_new = imgres1\n",
    "        imgres2_new = imgres2\n",
    "        \n",
    "        if self.img_transform:\n",
    "            #img_new = self.img_transform(image=img)['image']\n",
    "            trans = self.img_transform(image=imgres1,imgres2=imgres2)\n",
    "            imgres1_new = trans['image']\n",
    "            imgres2_new = trans['imgres2']\n",
    "\n",
    "        return imgres1_new, imgres2_new, label\n",
    "    def __len__(self):\n",
    "        return self.nitems"
   ]
  },
  {
   "cell_type": "code",
   "execution_count": 9,
   "metadata": {},
   "outputs": [],
   "source": [
    "device = torch.device('cuda')\n",
    "checkpoint = torch.load(f\"../../models/multi/{modelname}.pth\", map_location=lambda storage, loc: storage)"
   ]
  },
  {
   "cell_type": "code",
   "execution_count": 10,
   "metadata": {},
   "outputs": [
    {
     "data": {
      "text/plain": [
       "<All keys matched successfully>"
      ]
     },
     "execution_count": 10,
     "metadata": {},
     "output_type": "execute_result"
    }
   ],
   "source": [
    "from  MultiResSmallNetwork import MergeSmallNetworks\n",
    "model=MergeSmallNetworks(nclasses = nclasses, outputsize = 8 ).to(device)\n",
    "model.load_state_dict(checkpoint[\"model_dict\"])"
   ]
  },
  {
   "cell_type": "code",
   "execution_count": 8,
   "metadata": {},
   "outputs": [],
   "source": [
    "#summary(model.res1,input_size=(3,64,64))"
   ]
  },
  {
   "cell_type": "code",
   "execution_count": 9,
   "metadata": {},
   "outputs": [],
   "source": [
    "#summary(model.res2,input_size=(3,64,64))"
   ]
  },
  {
   "cell_type": "code",
   "execution_count": 11,
   "metadata": {},
   "outputs": [],
   "source": [
    "img_transform = Compose([\n",
    "        RandomScale(scale_limit=0.1,p=.9),\n",
    "        PadIfNeeded(min_height=patch_size,min_width=patch_size),        \n",
    "        VerticalFlip(p=.5),\n",
    "        HorizontalFlip(p=.5),\n",
    "        #Blur(p=.5),\n",
    "        #Downscale(p=.25, scale_min=0.64, scale_max=0.99),\n",
    "        GaussNoise(p=.5, var_limit=(10.0, 50.0)),\n",
    "        GridDistortion(p=.5, num_steps=5, distort_limit=(-0.3, 0.3), \n",
    "                       border_mode=cv2.BORDER_REFLECT),\n",
    "        ISONoise(p=.5, intensity=(0.1, 0.5), color_shift=(0.01, 0.05)),\n",
    "        RandomBrightness(p=.5, limit=(-0.2, 0.2)),\n",
    "        RandomContrast(p=.5, limit=(-0.2, 0.2)),\n",
    "        RandomGamma(p=.5, gamma_limit=(80, 120), eps=1e-07),\n",
    "        MultiplicativeNoise(p=.5, multiplier=(0.9, 1.1), per_channel=True, elementwise=True),\n",
    "        HueSaturationValue(hue_shift_limit=20,sat_shift_limit=10,val_shift_limit=10,p=.9),\n",
    "        Rotate(p=1, border_mode=cv2.BORDER_REFLECT),\n",
    "        CenterCrop(patch_size,patch_size),\n",
    "        ToTensor()\n",
    "    ], additional_targets={'imgres2':'image'})"
   ]
  },
  {
   "cell_type": "code",
   "execution_count": 12,
   "metadata": {},
   "outputs": [
    {
     "name": "stdout",
     "output_type": "stream",
     "text": [
      "train dataset size:\t56500\n",
      "val dataset size:\t11300\n"
     ]
    }
   ],
   "source": [
    "dataset={}\n",
    "dataLoader={}\n",
    "for phase in phases: #now for each of the phases, we're creating the dataloader\n",
    "                     #interestingly, given the batch size, i've not seen any improvements from using a num_workers>0\n",
    "    \n",
    "    dataset[phase]=Dataset(f\"../../data/processed/trg-multi-7classes-{phase}.pytable\", img_transform = img_transform)\n",
    "    dataLoader[phase]=DataLoader(dataset[phase], batch_size=batch_size, \n",
    "                                shuffle=False, num_workers=0,pin_memory=True) \n",
    "    print(f\"{phase} dataset size:\\t{len(dataset[phase])}\")"
   ]
  },
  {
   "cell_type": "code",
   "execution_count": 14,
   "metadata": {},
   "outputs": [],
   "source": [
    "cmatrix = np.zeros((nclasses,nclasses))\n",
    "#cmatrix = {key: np.zeros((nclasses,nclasses)) for key in phases}\n",
    "model.eval()   # Set model to evaluate mode\n",
    "phase = 'val'\n",
    "Y_val = []\n",
    "Y_pred = []\n",
    "for ii , (Xres1, Xres2, label) in enumerate(dataLoader['val']): #for each of the batches\n",
    "            Xres1 = Xres1.to(device)  # [Nbatch, 3, H, W]\n",
    "            Xres2 = Xres2.to(device)  # [Nbatch, 3, H, W]\n",
    "            label = label.type('torch.LongTensor').to(device)  # [Nbatch, 1] with class indices (0, 1, 2,...num_classes)\n",
    "\n",
    "            with torch.set_grad_enabled(False): #dynamically set gradient computation, in case of validation, this isn't needed\n",
    "                                                            #disabling is good practice and improves inference time\n",
    "\n",
    "                \n",
    "                prediction = model.dualfoward(Xres1,Xres2)  # [N, Nclass]\n",
    "                #prediction = model.res1(Xres1)  # [N, Nclass]\n",
    "                #prediction = model.res2(Xres2)  # [N, Nclass]\n",
    "\n",
    "\n",
    "              \n",
    "\n",
    "                p=prediction.detach().cpu().numpy()\n",
    "                cpredflat=np.argmax(p,axis=1).flatten()\n",
    "                yflat=label.cpu().numpy().flatten()\n",
    "\n",
    "                CM = scipy.sparse.coo_matrix((np.ones(yflat.shape[0], dtype=np.int64), (yflat, cpredflat)),\n",
    "                        shape=(nclasses, nclasses), dtype=np.int64,\n",
    "                        ).toarray()\n",
    "                cmatrix=cmatrix+CM\n",
    "                Y_val = Y_val + list(yflat)\n",
    "                Y_pred = Y_pred + list(cpredflat)\n",
    "                    "
   ]
  },
  {
   "cell_type": "code",
   "execution_count": 16,
   "metadata": {
    "scrolled": true
   },
   "outputs": [
    {
     "name": "stdout",
     "output_type": "stream",
     "text": [
      "Automatically created module for IPython interactive environment\n",
      "Normalized confusion matrix\n",
      "[[9.79e-01 6.67e-04 5.33e-03 5.33e-03 8.00e-03 0.00e+00 1.33e-03]\n",
      " [3.45e-03 8.49e-01 5.72e-02 2.41e-03 4.86e-02 7.93e-03 3.14e-02]\n",
      " [5.00e-03 3.58e-02 9.04e-01 3.33e-03 1.92e-02 1.08e-02 2.17e-02]\n",
      " [1.17e-02 3.33e-03 1.67e-03 8.73e-01 7.00e-02 3.67e-02 3.33e-03]\n",
      " [1.48e-02 5.31e-02 1.86e-02 3.52e-02 8.49e-01 1.90e-02 1.00e-02]\n",
      " [8.33e-04 2.25e-02 2.08e-02 3.83e-02 4.50e-02 8.28e-01 4.42e-02]\n",
      " [1.00e-03 1.10e-02 2.90e-02 5.00e-03 2.50e-02 8.00e-03 9.21e-01]]\n"
     ]
    },
    {
     "data": {
      "image/png": "[encoded data removed]",
      "text/plain": [
       "<Figure size 1440x720 with 2 Axes>"
      ]
     },
     "metadata": {
      "needs_background": "light"
     },
     "output_type": "display_data"
    }
   ],
   "source": [
    "%matplotlib inline\n",
    "print(__doc__)\n",
    "\n",
    "import numpy as np\n",
    "import matplotlib.pyplot as plt\n",
    "\n",
    "from sklearn import svm, datasets\n",
    "from sklearn.model_selection import train_test_split\n",
    "from sklearn.metrics import confusion_matrix\n",
    "from sklearn.utils.multiclass import unique_labels\n",
    "\n",
    "class_names=np.array(class_names, dtype='<U10')\n",
    "def plot_confusion_matrix(y_true, y_pred, classes,\n",
    "                          normalize=False,\n",
    "                          title=None,\n",
    "                          cmap=plt.cm.Blues):\n",
    "    \"\"\"\n",
    "    This function prints and plots the confusion matrix.\n",
    "    Normalization can be applied by setting `normalize=True`.\n",
    "    \"\"\"\n",
    "    if not title:\n",
    "        if normalize:\n",
    "            title = 'Normalized confusion matrix'\n",
    "        else:\n",
    "            title = 'Confusion matrix, without normalization'\n",
    "\n",
    "    # Compute confusion matrix\n",
    "    cm = confusion_matrix(y_true, y_pred)\n",
    "    # Only use the labels that appear in the data\n",
    "    classes = classes[unique_labels(y_true, y_pred)]\n",
    "    if normalize:\n",
    "        cm = cm.astype('float') / cm.sum(axis=1)[:, np.newaxis]\n",
    "        print(\"Normalized confusion matrix\")\n",
    "    else:\n",
    "        print('Confusion matrix, without normalization')\n",
    "\n",
    "    print(cm)\n",
    "    fig, ax = plt.subplots(figsize=(20,10))\n",
    "    im = ax.imshow(cm, interpolation='nearest', cmap=cmap)\n",
    "    ax.figure.colorbar(im, ax=ax)\n",
    "    # We want to show all ticks...\n",
    "    ax.set(xticks=np.arange(cm.shape[1]),\n",
    "           yticks=np.arange(cm.shape[0]),\n",
    "           # ... and label them with the respective list entries\n",
    "           xticklabels=classes, yticklabels=classes,\n",
    "           title=title,\n",
    "           ylabel='True label',\n",
    "           xlabel='Predicted label')\n",
    "\n",
    "    # Rotate the tick labels and set their alignment.\n",
    "    plt.setp(ax.get_xticklabels(), rotation=45, ha=\"right\",\n",
    "             rotation_mode=\"anchor\")\n",
    "\n",
    "    # Loop over data dimensions and create text annotations.\n",
    "    fmt = '.2f' if normalize else 'd'\n",
    "    thresh = cm.max() / 2.\n",
    "    for i in range(cm.shape[0]):\n",
    "        for j in range(cm.shape[1]):\n",
    "            ax.text(j, i, format(cm[i, j], fmt),\n",
    "                    ha=\"center\", va=\"center\",\n",
    "                    color=\"white\" if cm[i, j] > thresh else \"black\")\n",
    "    fig.tight_layout()\n",
    "    plt.xlim(-0.5, 7.5) \n",
    "    plt.ylim(7.5, -0.5)\n",
    "    plt.savefig('cmatrix.png', dpi = 1000, bbox_inches='tight')\n",
    "    return ax\n",
    "\n",
    "\n",
    "np.set_printoptions(precision=2)\n",
    "\n",
    "# Plot non-normalized confusion matrix\n",
    "#plot_confusion_matrix(Y_val, Y_pred, classes=class_names,\n",
    "                     # title='Confusion matrix, without normalization')\n",
    "\n",
    "# Plot normalized confusion matrix\n",
    "fig = plot_confusion_matrix(Y_val, Y_pred, classes=class_names, normalize=True,\n",
    "                      title='Normalized confusion matrix')\n",
    "\n",
    "plt.show()"
   ]
  },
  {
   "cell_type": "code",
   "execution_count": null,
   "metadata": {},
   "outputs": [],
   "source": []
  }
 ],
 "metadata": {
  "kernelspec": {
   "display_name": "Python 3",
   "language": "python",
   "name": "python3"
  },
  "language_info": {
   "codemirror_mode": {
    "name": "ipython",
    "version": 3
   },
   "file_extension": ".py",
   "mimetype": "text/x-python",
   "name": "python",
   "nbconvert_exporter": "python",
   "pygments_lexer": "ipython3",
   "version": "3.6.8"
  }
 },
 "nbformat": 4,
 "nbformat_minor": 2
}
