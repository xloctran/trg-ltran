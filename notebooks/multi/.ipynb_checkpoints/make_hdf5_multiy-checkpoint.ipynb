{
 "cells": [
  {
   "cell_type": "code",
   "execution_count": 1,
   "metadata": {
    "lines_to_end_of_cell_marker": 2,
    "lines_to_next_cell": 2
   },
   "outputs": [],
   "source": [
    "dataname=\"trg_multi\"\n",
    "\n",
    "resize_resolutions=[1,.25] #resize input image, base and second\n",
    "\n",
    "patch_size=128 #size of the tiles to extract and save in the database, must be >= to training size\n",
    "patch_size_res2 = int(patch_size  * 1/resize_resolutions[1])\n",
    "mirror_pad_size = patch_size_res2\n",
    "\n",
    "\n",
    "test_set_size=.1 # what percentage of the dataset should be used as a held out validation/testing set\n",
    "class_names=[\"Ignore\", \"Immune\", \"Other\", \"Region\", \"Stroma\", \"Tumor\", \"Necrosis\", \"Epithelium\"]\n",
    "\n",
    "\n",
    "#-- relating to masks\n",
    "#max_number_samples={\"train\":5000,\"val\":100}\n",
    "max_number_samples={\"train\":100,\"val\":100}\n",
    "phases=['train','val'] "
   ]
  },
  {
   "cell_type": "code",
   "execution_count": 2,
   "metadata": {},
   "outputs": [],
   "source": [
    "def random_subset(a, b, nitems):\n",
    "    assert len(a) == len(b)\n",
    "    idx = np.random.randint(0,len(a),nitems)\n",
    "    return a[idx], b[idx]"
   ]
  },
  {
   "cell_type": "code",
   "execution_count": 3,
   "metadata": {},
   "outputs": [],
   "source": [
    "def unison_shuffled_copies(a, b):\n",
    "    assert len(a) == len(b)\n",
    "    p = numpy.random.permutation(len(a))\n",
    "    return a[p], b[p]"
   ]
  },
  {
   "cell_type": "code",
   "execution_count": 4,
   "metadata": {},
   "outputs": [
    {
     "name": "stdout",
     "output_type": "stream",
     "text": [
      "random seed (note down for reproducibility): 5362452552636244682\n"
     ]
    },
    {
     "name": "stderr",
     "output_type": "stream",
     "text": [
      "/usr/local/lib/python3.6/dist-packages/ipykernel_launcher.py:21: TqdmExperimentalWarning: Using `tqdm.autonotebook.tqdm` in notebook mode. Use `tqdm.tqdm` instead to force console mode (e.g. in jupyter console)\n"
     ]
    }
   ],
   "source": [
    "import torch\n",
    "import tables\n",
    "\n",
    "import os,sys\n",
    "import glob\n",
    "\n",
    "import PIL\n",
    "import numpy as np\n",
    "\n",
    "import cv2\n",
    "import matplotlib.pyplot as plt\n",
    "\n",
    "import scipy.signal\n",
    "\n",
    "from sklearn import model_selection\n",
    "import sklearn.feature_extraction.image\n",
    "import random\n",
    "\n",
    "from collections import Counter\n",
    "\n",
    "from tqdm.autonotebook import tqdm\n",
    "\n",
    "seed = random.randrange(sys.maxsize) #get a random seed so that we can reproducibly do the cross validation setup\n",
    "random.seed(seed) # set the seed\n",
    "print(f\"random seed (note down for reproducibility): {seed}\")"
   ]
  },
  {
   "cell_type": "code",
   "execution_count": 5,
   "metadata": {},
   "outputs": [],
   "source": [
    "img_dtype = tables.UInt8Atom()  # dtype in which the images will be saved, this indicates that images will be saved as unsigned int 8 bit, i.e., [0,255]\n",
    "filenameAtom = tables.StringAtom(itemsize=255) #create an atom to store the filename of the image, just incase we need it later, "
   ]
  },
  {
   "cell_type": "code",
   "execution_count": 6,
   "metadata": {},
   "outputs": [],
   "source": [
    "files=glob.glob('../masks4/*mask.png')\n",
    "#create training and validation stages and split the files appropriately between them"
   ]
  },
  {
   "cell_type": "code",
   "execution_count": 7,
   "metadata": {},
   "outputs": [
    {
     "data": {
      "text/plain": [
       "['../masks4/slide-2019-09-24T09-59-19-R1-S3.mrxs_Tumor_(4.00,62442,78320,7257,9303)-mask.png',\n",
       " '../masks4/slide-2019-09-24T09-52-40-R1-S1.mrxs_Necrosis_(4.00,40354,45361,189,168)-mask.png',\n",
       " '../masks4/slide-2019-09-24T09-56-00-R1-S2.mrxs_Muscular_(4.00,48168,139446,1701,1494)-mask.png',\n",
       " '../masks4/slide-2019-09-24T09-52-40-R1-S1.mrxs_Epithelium_(4.00,13723,93933,771,1303)-mask.png',\n",
       " '../masks4/slide-2019-09-24T09-52-40-R1-S1.mrxs_Muscular_(4.00,18364,21345,4304,4617)-mask.png',\n",
       " '../masks4/slide-2019-09-24T09-52-40-R1-S1.mrxs_Necrosis_(4.00,40416,45874,244,402)-mask.png',\n",
       " '../masks4/slide-2019-09-24T09-52-40-R1-S1.mrxs_Necrosis_(4.00,41382,45606,287,292)-mask.png',\n",
       " '../masks4/slide-2019-09-24T09-52-40-R1-S1.mrxs_Muscular_(4.00,33625,121824,5238,3953)-mask.png',\n",
       " '../masks4/slide-2019-09-24T09-52-40-R1-S1.mrxs_Necrosis_(4.00,40067,45491,256,277)-mask.png',\n",
       " '../masks4/slide-2019-09-24T09-52-40-R1-S1.mrxs_Muscular_(4.00,41379,136681,4680,5179)-mask.png',\n",
       " '../masks4/slide-2019-09-24T09-52-40-R1-S1.mrxs_Necrosis_(4.00,40686,45515,571,482)-mask.png',\n",
       " '../masks4/slide-2019-09-24T09-56-00-R1-S2.mrxs_Tumor_(4.00,3210,97614,15500,11124)-mask.png',\n",
       " '../masks4/slide-2019-09-24T09-52-40-R1-S1.mrxs_Necrosis_(4.00,40212,45013,338,376)-mask.png',\n",
       " '../masks4/slide-2019-09-24T09-52-40-R1-S1.mrxs_Epithelium_(4.00,17823,129320,3255,3136)-mask.png',\n",
       " '../masks4/slide-2019-09-24T09-52-40-R1-S1.mrxs_Gland_(4.00,23298,127932,2320,2087)-mask.png',\n",
       " '../masks4/slide-2019-09-24T09-52-40-R1-S1.mrxs_Stroma_(4.00,28908,61797,6414,12778)-mask.png',\n",
       " '../masks4/slide-2019-09-24T09-52-40-R1-S1.mrxs_Vein_(4.00,44170,11645,6622,12928)-mask.png',\n",
       " '../masks4/slide-2019-09-24T09-52-40-R1-S1.mrxs_Necrosis_(4.00,40714,45221,242,263)-mask.png',\n",
       " '../masks4/slide-2019-09-24T09-52-40-R1-S1.mrxs_Gland_(4.00,33659,136578,2220,2079)-mask.png',\n",
       " '../masks4/slide-2019-09-24T09-52-40-R1-S1.mrxs_Fat_(4.00,40166,67034,6163,4851)-mask.png',\n",
       " '../masks4/slide-2019-09-24T09-52-40-R1-S1.mrxs_Muscular_(4.00,25889,122188,9021,7566)-mask.png',\n",
       " '../masks4/slide-2019-09-24T09-52-40-R1-S1.mrxs_Necrosis_(4.00,40990,45196,222,302)-mask.png',\n",
       " '../masks4/slide-2019-09-24T09-52-40-R1-S1.mrxs_Muscular_(4.00,17873,37766,4771,9707)-mask.png',\n",
       " '../masks4/slide-2019-09-24T09-52-40-R1-S1.mrxs_Vein_(4.00,17740,110529,816,1189)-mask.png',\n",
       " '../masks4/slide-2019-09-24T09-52-40-R1-S1.mrxs_Muscular_(4.00,17516,57892,10320,10234)-mask.png',\n",
       " '../masks4/slide-2019-09-24T09-52-40-R1-S1.mrxs_Muscular_(4.00,41264,129440,5869,6287)-mask.png',\n",
       " '../masks4/slide-2019-09-24T09-52-40-R1-S1.mrxs_Stroma_(4.00,4830,38494,8277,9518)-mask.png',\n",
       " '../masks4/slide-2019-09-24T09-52-40-R1-S1.mrxs_Fat_(4.00,30995,19638,2871,2736)-mask.png',\n",
       " '../masks4/slide-2019-09-24T09-56-00-R1-S2.mrxs_Muscular_(4.00,43429,136354,4075,5377)-mask.png',\n",
       " '../masks4/slide-2019-09-24T09-52-40-R1-S1.mrxs_Muscular_(4.00,32486,137195,524,360)-mask.png',\n",
       " '../masks4/slide-2019-09-24T09-52-40-R1-S1.mrxs_Vein_(4.00,38826,119354,2680,3265)-mask.png',\n",
       " '../masks4/slide-2019-09-24T09-52-40-R1-S1.mrxs_Vein_(4.00,18244,111976,1230,1497)-mask.png',\n",
       " '../masks4/slide-2019-09-24T09-52-40-R1-S1.mrxs_Tumor_(4.00,18267,86394,7141,7790)-mask.png']"
      ]
     },
     "execution_count": 7,
     "metadata": {},
     "output_type": "execute_result"
    }
   ],
   "source": [
    "files"
   ]
  },
  {
   "cell_type": "code",
   "execution_count": null,
   "metadata": {},
   "outputs": [],
   "source": [
    "storage={} #holder for future pytables\n",
    "\n",
    "block_shape=np.array((patch_size,patch_size,3)) #block shape specifies what we'll be saving into the pytable array, here we assume that masks are 1d and images are 3d\n",
    "\n",
    "filters=tables.Filters(complevel=6, complib='zlib') #we can also specify filters, such as compression, to improve storage speed\n",
    "\n",
    "for phase in phases: #now for each of the phases, we'll loop through the files\n",
    "    print(phase)\n",
    "    \n",
    "    \n",
    "    hdf5_file = tables.open_file(f\"./{dataname}_{phase}.pytable\", mode='w') #open the respective pytable\n",
    "    storage[\"filenames\"] = hdf5_file.create_earray(hdf5_file.root, 'filenames', filenameAtom, (0,)) #create the array for storage\n",
    "    \n",
    "    \n",
    "    storage[\"imgres1\"]= hdf5_file.create_earray(hdf5_file.root, \"imgres1\", img_dtype, shape=np.append([0],block_shape), \n",
    "                                                chunkshape=np.append([1],block_shape), filters=filters)\n",
    "    \n",
    "    storage[\"imgres2\"]= hdf5_file.create_earray(hdf5_file.root, \"imgres2\", img_dtype,  shape=np.append([0],block_shape), \n",
    "                                                chunkshape=np.append([1],block_shape), filters=filters)\n",
    "    \n",
    "    storage[\"labels\"]= hdf5_file.create_earray(hdf5_file.root, \"labels\", img_dtype, shape=[0],  chunkshape=[1], filters=filters)\n",
    "\n",
    "    \n",
    "    for fname_mask in tqdm(files): #now for each of the files\n",
    "        classid=[idx for idx in range(len(class_names)) if class_names[idx] in fname_mask][0]\n",
    "\n",
    "        \n",
    "        img = cv2.cvtColor(cv2.imread(fname_mask.replace(\"-mask.png\",\".png\")),cv2.COLOR_BGR2RGB)\n",
    "        img= cv2.resize(img,(0,0),fx=resize_resolutions[0],fy=resize_resolutions[0], interpolation=PIL.Image.BICUBIC) #resize it as specified above\n",
    "        img = np.pad(img, [(mirror_pad_size, mirror_pad_size), (mirror_pad_size, mirror_pad_size), (0, 0)], mode=\"reflect\")\n",
    "        \n",
    "                \n",
    "        mask = cv2.imread(fname_mask)\n",
    "        mask = cv2.resize(mask,(0,0),fx=resize_resolutions[0],fy=resize_resolutions[0], interpolation=PIL.Image.NEAREST) #resize it as specified above\n",
    "        mask=mask[:,:,0].squeeze()/255\n",
    "        \n",
    "        mask = np.pad(mask, [(mirror_pad_size, mirror_pad_size), (mirror_pad_size, mirror_pad_size)], mode=\"constant\", constant_values =255 )\n",
    "\n",
    "        \n",
    "        [rs,cs]=np.logical_and(mask!=255, mask).nonzero()\n",
    "\n",
    "        [rs,cs]=random_subset(rs,cs,min(max_number_samples[phase],len(rs)))\n",
    "        \n",
    "        for i, (r,c) in tqdm(enumerate(zip(rs,cs)),total =len(rs), leave=False):\n",
    "\n",
    "            r=int(r)\n",
    "            c=int(c)\n",
    "\n",
    "            imgres1 = img[r-patch_size//2:r+patch_size//2,c-patch_size//2:c+patch_size//2,:]\n",
    "            \n",
    "            imgres2 = img[r-patch_size_res2//2:r+patch_size_res2//2,c-patch_size_res2//2:c+patch_size_res2//2,:]\n",
    "            imgres2 = cv2.resize(imgres2,(patch_size,patch_size), interpolation=PIL.Image.BICUBIC) #resize it as specified above\n",
    "\n",
    "\n",
    "            storage[\"imgres1\"].append(imgres1[None,::])\n",
    "            storage[\"imgres2\"].append(imgres2[None,::])\n",
    "\n",
    "            storage[\"labels\"].append([int(classid)]) #add the filename to the storage array\n",
    "            storage[\"filenames\"].append([fname_mask]) #add the filename to the storage array\n",
    "            \n",
    "        \n",
    "    npixels=hdf5_file.create_carray(hdf5_file.root, 'classsizes',  tables.UInt64Atom(), (1,len(class_names)))\n",
    "    totals=Counter(storage[\"labels\"][:])\n",
    "    npixels[:]=[ totals[x] for x in range(len(class_names))]\n",
    "    hdf5_file.close()"
   ]
  },
  {
   "cell_type": "code",
   "execution_count": null,
   "metadata": {},
   "outputs": [],
   "source": [
    "db = tables.open_file(f\"{dataname}_train.pytable\")"
   ]
  },
  {
   "cell_type": "code",
   "execution_count": null,
   "metadata": {},
   "outputs": [],
   "source": [
    "for idx in random.sample(range(len(db.root.labels)),10):\n",
    "    imgres1=db.root.imgres1[idx,:,:,:].squeeze()\n",
    "    imgres2=db.root.imgres2[idx,:,:,:].squeeze()\n",
    "    fig, ax = plt.subplots(1,2, figsize=(10,4))  # 1 row, 2 columns\n",
    "    ax[0].imshow(imgres1)\n",
    "    ax[1].imshow(imgres2)\n",
    "    plt.show()"
   ]
  },
  {
   "cell_type": "code",
   "execution_count": null,
   "metadata": {},
   "outputs": [],
   "source": []
  }
 ],
 "metadata": {
  "jupytext": {
   "formats": "ipynb,py:light",
   "text_representation": {
    "extension": ".py",
    "format_name": "light",
    "format_version": "1.5",
    "jupytext_version": "1.3.0"
   }
  },
  "kernelspec": {
   "display_name": "Python 3",
   "language": "python",
   "name": "python3"
  },
  "language_info": {
   "codemirror_mode": {
    "name": "ipython",
    "version": 3
   },
   "file_extension": ".py",
   "mimetype": "text/x-python",
   "name": "python",
   "nbconvert_exporter": "python",
   "pygments_lexer": "ipython3",
   "version": "3.6.8"
  }
 },
 "nbformat": 4,
 "nbformat_minor": 2
}
