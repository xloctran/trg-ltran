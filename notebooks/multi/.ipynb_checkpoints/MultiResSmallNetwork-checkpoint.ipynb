{
 "cells": [
  {
   "cell_type": "code",
   "execution_count": null,
   "metadata": {},
   "outputs": [],
   "source": [
    "import torch\n",
    "from torch import nn\n",
    "\n",
    "class Flatten(nn.Module):\n",
    "    def forward(self, input):\n",
    "        return input.view(input.size(0), -1)\n",
    "\n",
    "class SmallNetwork(nn.Module):\n",
    "    def __init__(self, nclasses=2 , outputsize = 8):\n",
    "        super(SmallNetwork,self).__init__()\n",
    "        \n",
    "        self.encoder = nn.Sequential(\n",
    "            nn.Conv2d(3, 6, kernel_size=3),\n",
    "            nn.ReLU(True),\n",
    "            nn.BatchNorm2d(6),\n",
    "            nn.Conv2d(6,8,stride=2,kernel_size=3),\n",
    "            nn.ReLU(True),\n",
    "            nn.BatchNorm2d(8),\n",
    "            nn.Conv2d(8,8,stride=2,kernel_size=3),\n",
    "            nn.ReLU(True),\n",
    "            nn.BatchNorm2d(8),\n",
    "            nn.Conv2d(8,8,stride=2,kernel_size=3),\n",
    "            nn.ReLU(True),\n",
    "            nn.BatchNorm2d(8),\n",
    "            nn.Conv2d(8,8,stride=2,kernel_size=3),\n",
    "            nn.ReLU(True),\n",
    "            nn.BatchNorm2d(8),\n",
    "            nn.Conv2d(8,8,stride=1,kernel_size=2),\n",
    "            nn.ReLU(True),\n",
    "            nn.BatchNorm2d(8) )\n",
    "        \n",
    "        self.fc= nn.Sequential(\n",
    "            Flatten(),\n",
    "            nn.Linear(8, outputsize),\n",
    "            nn.ReLU(True),\n",
    "            nn.BatchNorm1d(outputsize),\n",
    "            nn.Linear(outputsize, outputsize),\n",
    "            nn.ReLU(True),\n",
    "            nn.BatchNorm1d(outputsize) )\n",
    "        \n",
    "        self.classifier=  nn.Sequential( nn.Linear(outputsize, nclasses))\n",
    "\n",
    "        \n",
    "    def forwardlin(self,x):\n",
    "        x = self.encoder(x)\n",
    "        return self.fc(x)\n",
    "        \n",
    "    def forward(self,x):\n",
    "        x = self.encoder(x)\n",
    "        x = self.fc(x)\n",
    "        return self.classifier(x)\n"
   ]
  },
  {
   "cell_type": "code",
   "execution_count": null,
   "metadata": {
    "lines_to_next_cell": 2
   },
   "outputs": [],
   "source": [
    "class MergeSmallNetworks(nn.Module):\n",
    "    def __init__(self,nclasses=2, outputsize = 8 ):\n",
    "        super(MergeSmallNetworks,self).__init__()\n",
    "        \n",
    "        self.res1 = SmallNetwork(outputsize = outputsize, nclasses= nclasses)\n",
    "        self.res2 = SmallNetwork(outputsize = outputsize, nclasses= nclasses)\n",
    "        \n",
    "        self.final= nn.Sequential(\n",
    "            nn.Linear(outputsize * 2, 16),\n",
    "            nn.ReLU(True),\n",
    "            nn.BatchNorm1d(16),\n",
    "            nn.Linear(16, nclasses))\n",
    "        \n",
    "\n",
    "    def dualfoward(self,xres1,xres2):\n",
    "        res1 = self.res1.forwardlin(xres1)\n",
    "        res2 = self.res2.forwardlin(xres2)\n",
    "        res1res2 = torch.cat([res1, res2], 1)\n",
    "        return self.final(res1res2)"
   ]
  }
 ],
 "metadata": {
  "jupytext": {
   "formats": "ipynb,py:light"
  },
  "kernelspec": {
   "display_name": "Python 3",
   "language": "python",
   "name": "python3"
  },
  "language_info": {
   "codemirror_mode": {
    "name": "ipython",
    "version": 3
   },
   "file_extension": ".py",
   "mimetype": "text/x-python",
   "name": "python",
   "nbconvert_exporter": "python",
   "pygments_lexer": "ipython3",
   "version": "3.6.8"
  }
 },
 "nbformat": 4,
 "nbformat_minor": 2
}
